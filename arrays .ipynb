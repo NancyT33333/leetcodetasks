{
 "cells": [
  {
   "cell_type": "code",
   "execution_count": 75,
   "metadata": {},
   "outputs": [
    {
     "data": {
      "text/plain": [
       "[0, 1, 0, 3, 12, 13]"
      ]
     },
     "execution_count": 75,
     "metadata": {},
     "output_type": "execute_result"
    }
   ],
   "source": [
    "nums = [0, 0, 1, 0, 0, 3, 0, 12,13]\n",
    "\n",
    "class Solution:\n",
    "    def moveZeroes(self, nums):\n",
    "\n",
    "\n",
    "        for i in range(len(nums)):\n",
    "            if i < len(nums):     \n",
    "                \n",
    "                if nums[i]==0:\n",
    "                    del(nums[i])\n",
    "                    \n",
    "        return(nums)\n",
    "                \n",
    "      \n",
    "v=Solution()\n",
    "ans=v.moveZeroes(nums)\n",
    "ans"
   ]
  },
  {
   "cell_type": "code",
   "execution_count": 98,
   "metadata": {},
   "outputs": [
    {
     "name": "stdout",
     "output_type": "stream",
     "text": [
      "[0, 0, 1, 1, 0, 3, 0, 12, 13]\n"
     ]
    }
   ],
   "source": [
    "nums = [0, 0, 1, 1, 0, 3, 0, 12,13]\n",
    "\n",
    "print(nums)\n",
    "\n",
    "     "
   ]
  },
  {
   "cell_type": "code",
   "execution_count": 4,
   "metadata": {},
   "outputs": [
    {
     "data": {
      "text/plain": [
       "True"
      ]
     },
     "execution_count": 4,
     "metadata": {},
     "output_type": "execute_result"
    }
   ],
   "source": [
    "nums = [0, 0, 1, 1, 0, 3, 0, 12,13]\n",
    "\n",
    "class Solution:\n",
    "    def containsDuplicate(self, nums):\n",
    "        o=set(nums)\n",
    "        if len(o)==len(nums):\n",
    "            return False\n",
    "        else:\n",
    "            return True\n",
    "            \n",
    "        \n",
    "        \n",
    "        \n",
    "      \n",
    "v=Solution()\n",
    "ans=v.containsDuplicate(nums)\n",
    "ans\n",
    "  "
   ]
  },
  {
   "cell_type": "code",
   "execution_count": 8,
   "metadata": {},
   "outputs": [
    {
     "data": {
      "text/plain": [
       "12"
      ]
     },
     "execution_count": 8,
     "metadata": {},
     "output_type": "execute_result"
    }
   ],
   "source": [
    "nums = [0, 1, 13, 0, 3, 3, 12, 1, 13]\n",
    "\n",
    "\n",
    "\n",
    "class Solution:\n",
    "    def missingNumber(self, nums):\n",
    "        \"\"\"\n",
    "        :type nums: List[int]\n",
    "        :rtype: int\n",
    "        \"\"\"\n",
    "        \n",
    "                \n",
    "            \n",
    "        \n",
    "        \n",
    "        \n",
    "      \n",
    "v=Solution()\n",
    "ans=v.singleNumber(nums)\n",
    "ans"
   ]
  },
  {
   "cell_type": "code",
   "execution_count": 1,
   "metadata": {},
   "outputs": [
    {
     "data": {
      "text/plain": [
       "[0, 0, 1, 1, 3, 3, 12, 13, 13]"
      ]
     },
     "execution_count": 1,
     "metadata": {},
     "output_type": "execute_result"
    }
   ],
   "source": [
    "nums = [0, 1, 13, 0, 3, 3, 12, 1, 13]\n",
    "nums1=sorted(nums)\n",
    "nums1"
   ]
  },
  {
   "cell_type": "code",
   "execution_count": 6,
   "metadata": {},
   "outputs": [
    {
     "name": "stdout",
     "output_type": "stream",
     "text": [
      "[0, 0, 1, 1, 3, 3, 12, 13, 13]\n"
     ]
    }
   ],
   "source": [
    "nums.sort()\n",
    "print(nums)"
   ]
  },
  {
   "cell_type": "code",
   "execution_count": 18,
   "metadata": {},
   "outputs": [
    {
     "data": {
      "text/plain": [
       "0"
      ]
     },
     "execution_count": 18,
     "metadata": {},
     "output_type": "execute_result"
    }
   ],
   "source": [
    "nums=[1]\n",
    "class Solution:\n",
    "\n",
    "    def missingNumber(self, nums):\n",
    "        nums.sort()\n",
    "        i=0\n",
    "        j=1\n",
    "        if nums[i]==0:\n",
    "            while j<len(nums):\n",
    "                k=nums[j]-nums[i]\n",
    "\n",
    "                if k==1:\n",
    "                    i+=1\n",
    "                    j+=1\n",
    "                elif k==2:\n",
    "                    break\n",
    "            return (nums[i]+1)\n",
    "        else:\n",
    "            return (0)\n",
    "        \n",
    "        \n",
    "v=Solution()\n",
    "ans=v.missingNumber(nums)\n",
    "ans\n",
    "       "
   ]
  },
  {
   "cell_type": "code",
   "execution_count": null,
   "metadata": {
    "collapsed": true
   },
   "outputs": [],
   "source": []
  }
 ],
 "metadata": {
  "kernelspec": {
   "display_name": "Python 3",
   "language": "python",
   "name": "python3"
  },
  "language_info": {
   "codemirror_mode": {
    "name": "ipython",
    "version": 3
   },
   "file_extension": ".py",
   "mimetype": "text/x-python",
   "name": "python",
   "nbconvert_exporter": "python",
   "pygments_lexer": "ipython3",
   "version": "3.5.4"
  }
 },
 "nbformat": 4,
 "nbformat_minor": 2
}
