{
 "cells": [
  {
   "cell_type": "code",
   "execution_count": 2,
   "metadata": {
    "collapsed": true
   },
   "outputs": [],
   "source": [
    "class Person:\n",
    "    def __init__(self, name, age):\n",
    "        self.__name = name    # устанавливаем имя\n",
    "        self.__age = age      # устанавливаем возраст\n",
    " \n",
    "    def set_age(self, age):\n",
    "        if age in range(1, 100):\n",
    "            self.__age = age\n",
    "        else:\n",
    "            print(\"Недопустимый возраст\")\n",
    " \n",
    "    def get_age(self):\n",
    "        return self.__age\n",
    "         \n",
    "    def get_name(self):\n",
    "        return self.__name\n",
    " \n",
    "    def display_info(self):\n",
    "        print(\"Имя:\", self.__name, \"\\tВозраст:\", self.__age)\n",
    "         \n",
    "tom = Person(\"Tom\", 23)"
   ]
  },
  {
   "cell_type": "code",
   "execution_count": 9,
   "metadata": {
    "collapsed": false
   },
   "outputs": [
    {
     "name": "stdout",
     "output_type": "stream",
     "text": [
      "354\n"
     ]
    }
   ],
   "source": [
    "\n",
    "print(tom.__age)"
   ]
  },
  {
   "cell_type": "code",
   "execution_count": 5,
   "metadata": {
    "collapsed": false
   },
   "outputs": [
    {
     "name": "stdout",
     "output_type": "stream",
     "text": [
      "Имя: Tom \tВозраст: 23\n"
     ]
    }
   ],
   "source": [
    "tom.display_info()"
   ]
  },
  {
   "cell_type": "code",
   "execution_count": null,
   "metadata": {
    "collapsed": true
   },
   "outputs": [],
   "source": [
    "tom.set_age"
   ]
  }
 ],
 "metadata": {
  "kernelspec": {
   "display_name": "Python 3",
   "language": "python",
   "name": "python3"
  },
  "language_info": {
   "codemirror_mode": {
    "name": "ipython",
    "version": 3
   },
   "file_extension": ".py",
   "mimetype": "text/x-python",
   "name": "python",
   "nbconvert_exporter": "python",
   "pygments_lexer": "ipython3",
   "version": "3.6.0"
  }
 },
 "nbformat": 4,
 "nbformat_minor": 2
}
