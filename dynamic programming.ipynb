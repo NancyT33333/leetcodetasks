{
 "cells": [
  {
   "cell_type": "markdown",
   "metadata": {},
   "source": [
    "Чтобы успешно решить задачу динамикой нужно:\n",
    "1) Состояние динамики: параметр(ы), однозначно задающие подзадачу. --n для фибоначчи\n",
    "2) Значения начальных состояний.\n",
    "3) Переходы между состояниями: формула пересчёта.\n",
    "4) Порядок пересчёта.\n",
    "5) Положение ответа на задачу: иногда это сумма или, например, максимум из значений нескольких состояний."
   ]
  },
  {
   "cell_type": "code",
   "execution_count": 1,
   "metadata": {
    "collapsed": true
   },
   "outputs": [],
   "source": [
    "\n",
    "def fibonacci_1(n):  #O(n)\n",
    "    a, b = 0, 1\n",
    "    \n",
    "    if n < 0:\n",
    "        raise Exception()\n",
    "    elif n == 0:\n",
    "        return a\n",
    "    elif n == 1:\n",
    "        return b\n",
    "    \n",
    "    x = 1\n",
    "    for i in range(n-2):\n",
    "        x, b, a = x+b, x, b\n",
    "    return x\n",
    "    \n",
    "def fibonacci_2(n):   #O(n^2)\n",
    "    if n < 0:\n",
    "        raise Exception()\n",
    "    elif n == 0:\n",
    "        return 0\n",
    "    elif n == 1:\n",
    "        return 1\n",
    "    \n",
    "    return fibonacci_2(n-1) + fibonacci_2(n-2)"
   ]
  },
  {
   "cell_type": "code",
   "execution_count": null,
   "metadata": {
    "collapsed": true
   },
   "outputs": [],
   "source": []
  },
  {
   "cell_type": "code",
   "execution_count": null,
   "metadata": {
    "collapsed": true
   },
   "outputs": [],
   "source": []
  },
  {
   "cell_type": "code",
   "execution_count": 94,
   "metadata": {
    "collapsed": true
   },
   "outputs": [],
   "source": [
    "def task(n,m):\n",
    "    \n",
    "    dp = [[0 for x in range(m)] for y in range(n)]   #n-строчки количество\n",
    "    if n < 0 or m < 0:\n",
    "        raise Exception()\n",
    "    elif n == 0:\n",
    "        return 1\n",
    "    elif m == 0:\n",
    "        return 1\n",
    "    for i in range(n):\n",
    "        for j in range(m):\n",
    "            dp[i][0]=1\n",
    "            dp[0][j]=1\n",
    "            dp[i][j]=dp[i-1][j]+dp[i][j-1]\n",
    "        print(dp)\n",
    "    return dp[n-1][m-1]\n",
    "\n",
    "\n",
    "   "
   ]
  },
  {
   "cell_type": "code",
   "execution_count": 95,
   "metadata": {
    "collapsed": false
   },
   "outputs": [
    {
     "name": "stdout",
     "output_type": "stream",
     "text": [
      "[[1, 1], [0, 0], [0, 0], [0, 0]]\n",
      "[[1, 1], [1, 2], [0, 0], [0, 0]]\n",
      "[[1, 1], [1, 2], [1, 3], [0, 0]]\n",
      "[[1, 1], [1, 2], [1, 3], [1, 4]]\n"
     ]
    },
    {
     "data": {
      "text/plain": [
       "4"
      ]
     },
     "execution_count": 95,
     "metadata": {},
     "output_type": "execute_result"
    }
   ],
   "source": [
    "task(4,2)"
   ]
  },
  {
   "cell_type": "code",
   "execution_count": null,
   "metadata": {
    "collapsed": true
   },
   "outputs": [],
   "source": [
    "def task_2(arr):\n",
    "    \n",
    "      #n-строчки количество\n",
    "    if n < 0 or m < 0:\n",
    "        raise Exception()\n",
    "    elif n == 0:\n",
    "        return 1\n",
    "    elif m == 0:\n",
    "        return 1\n",
    "    for i in range(n):\n",
    "        for j in range(m):\n",
    "            dp[i][0]=1\n",
    "            dp[0][j]=1\n",
    "            dp[i][j]=dp[i-1][j]+dp[i][j-1]+dp[i-1][j-1]\n",
    "        print(dp)\n",
    "    return dp[n-1][m-1]\n"
   ]
  },
  {
   "cell_type": "code",
   "execution_count": 28,
   "metadata": {
    "collapsed": true
   },
   "outputs": [],
   "source": []
  },
  {
   "cell_type": "code",
   "execution_count": 96,
   "metadata": {
    "collapsed": false
   },
   "outputs": [],
   "source": [
    "\n",
    "import random"
   ]
  },
  {
   "cell_type": "code",
   "execution_count": 97,
   "metadata": {
    "collapsed": true
   },
   "outputs": [],
   "source": []
  },
  {
   "cell_type": "code",
   "execution_count": 102,
   "metadata": {
    "collapsed": false
   },
   "outputs": [
    {
     "data": {
      "text/plain": [
       "array([[ 3, 12,  8,  8,  6,  5,  4,  2],\n",
       "       [ 8,  9, 15,  6,  1, 13,  7, 11],\n",
       "       [13, 12,  1,  8,  9,  7,  5,  5],\n",
       "       [ 7,  5, 15,  2,  5,  2, 10, 10],\n",
       "       [10, 14,  4,  8,  9,  9,  1,  1],\n",
       "       [ 9,  2, 15, 13,  6, 13,  9,  6]])"
      ]
     },
     "execution_count": 102,
     "metadata": {},
     "output_type": "execute_result"
    }
   ],
   "source": [
    "test=np.random.randint(1, 18, (6, 8)) #матрица весов"
   ]
  },
  {
   "cell_type": "code",
   "execution_count": null,
   "metadata": {
    "collapsed": true
   },
   "outputs": [],
   "source": [
    "task_2(test)"
   ]
  },
  {
   "cell_type": "code",
   "execution_count": 55,
   "metadata": {
    "collapsed": false
   },
   "outputs": [
    {
     "data": {
      "text/plain": [
       "6"
      ]
     },
     "execution_count": 55,
     "metadata": {},
     "output_type": "execute_result"
    }
   ],
   "source": [
    "\n",
    "m=[7,1,5,3,6,4]\n",
    "\n",
    "\n",
    "def maxProfit(arr):\n",
    "\n",
    "    maxprofit=0\n",
    "    minprice=arr[0]\n",
    "\n",
    "    for x in arr:\n",
    "        if x<minprice:\n",
    "            minprice=x\n",
    "        elif x-minprice>maxprofit:\n",
    "            maxprofit=x-minprice\n",
    "\n",
    "\n",
    "    return(maxprofit)\n",
    "    \n",
    "maxProfit(m)\n",
    "        \n",
    "        \n",
    "        \n",
    "        \n",
    "            \n"
   ]
  },
  {
   "cell_type": "code",
   "execution_count": 17,
   "metadata": {
    "collapsed": false
   },
   "outputs": [],
   "source": [
    "list.index?"
   ]
  },
  {
   "cell_type": "code",
   "execution_count": 123,
   "metadata": {
    "collapsed": false
   },
   "outputs": [
    {
     "data": {
      "text/plain": [
       "8"
      ]
     },
     "execution_count": 123,
     "metadata": {},
     "output_type": "execute_result"
    }
   ],
   "source": [
    "def stairs(n):\n",
    "    dp=[1 for i in range(n+2)]\n",
    "\n",
    "    dp[0]=1\n",
    "    dp[1]=2\n",
    "\n",
    "  \n",
    "    if n==2:\n",
    "        return 2\n",
    "    if n==1:\n",
    "        return 1\n",
    "    if n==0:\n",
    "        return 0\n",
    "        \n",
    "        \n",
    "    else:\n",
    "   \n",
    "    \n",
    "        for i in range(len(dp)-4):\n",
    "\n",
    "\n",
    "            dp[i+2]=dp[i+1]+dp[i]\n",
    "        return(dp[i+2])\n",
    "        \n",
    "    \n",
    "    \n",
    "stairs(5)\n",
    "    \n"
   ]
  },
  {
   "cell_type": "code",
   "execution_count": null,
   "metadata": {
    "collapsed": true
   },
   "outputs": [],
   "source": []
  }
 ],
 "metadata": {
  "kernelspec": {
   "display_name": "Python 3",
   "language": "python",
   "name": "python3"
  },
  "language_info": {
   "codemirror_mode": {
    "name": "ipython",
    "version": 3
   },
   "file_extension": ".py",
   "mimetype": "text/x-python",
   "name": "python",
   "nbconvert_exporter": "python",
   "pygments_lexer": "ipython3",
   "version": "3.6.0"
  }
 },
 "nbformat": 4,
 "nbformat_minor": 2
}
