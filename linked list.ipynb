{
 "cells": [
  {
   "cell_type": "code",
   "execution_count": 1,
   "metadata": {
    "collapsed": true
   },
   "outputs": [],
   "source": [
    "\n",
    "class ListNode(object):\n",
    "    def __init__(self, x):\n",
    "        self.val = x\n",
    "        self.next = None\n",
    "\n",
    "class Solution(object):\n",
    "    def deleteNode(self, node):\n",
    "        node.val=node.next.val\n",
    "        node.next=node.next.next\n",
    "    def removeElements(self, head, val):\n",
    "        if head is not None:\n",
    "            while head.next is not None:\n",
    "                if head.next.val == val:\n",
    "                    if head.next.next==None:\n",
    "                        head.next.val=None\n",
    "                    else:\n",
    "                        head.next=head.next.next\n",
    "                head=head.next\n",
    "        else:\n",
    "            break\n",
    "                \n",
    "        \n",
    "        \n",
    "\n",
    "        \n",
    "        \n",
    "        \n",
    "nodel=ListNode(3)\n",
    "nodem=ListNode(4)\n",
    "noden=ListNode(5)\n",
    "nodeo=ListNode(6)\n",
    "nodep=ListNode(5)\n",
    "\n",
    "nodel.next=nodem\n",
    "nodem.next=noden\n",
    "noden.next=nodeo\n",
    "nodeo.next=nodep\n",
    "\n",
    "k=Solution()\n",
    "\n",
    "k.removeElements(nodel,5)\n",
    "           \n",
    "            \n"
   ]
  },
  {
   "cell_type": "code",
   "execution_count": 4,
   "metadata": {
    "collapsed": false
   },
   "outputs": [
    {
     "data": {
      "text/plain": [
       "4"
      ]
     },
     "execution_count": 4,
     "metadata": {},
     "output_type": "execute_result"
    }
   ],
   "source": [
    "nodel.next.val\n"
   ]
  },
  {
   "cell_type": "code",
   "execution_count": 4,
   "metadata": {
    "collapsed": false
   },
   "outputs": [
    {
     "data": {
      "text/plain": [
       "<__main__.ListNode at 0x1f4c139f4e0>"
      ]
     },
     "execution_count": 4,
     "metadata": {},
     "output_type": "execute_result"
    }
   ],
   "source": [
    "nodel.next"
   ]
  },
  {
   "cell_type": "code",
   "execution_count": 39,
   "metadata": {
    "collapsed": false
   },
   "outputs": [],
   "source": [
    "# Definition for singly-linked list.\n",
    "class ListNode(object):\n",
    "    def __init__(self, x):\n",
    "        self.val = x\n",
    "        self.next = None\n",
    "\n",
    "class Solution(object):\n",
    "    \n",
    "    def mergeTwoLists(self, l1, l2):\n",
    "        if l1 is None:\n",
    "            return l2\n",
    "        elif l2 is None:\n",
    "            return l1\n",
    "        elif l1.val < l2.val:\n",
    "            l1.next = self.mergeTwoLists(l1.next, l2)\n",
    "            return l1\n",
    "        else:\n",
    "            l2.next = self.mergeTwoLists(l1, l2.next)\n",
    "            return l2\n",
    "         "
   ]
  },
  {
   "cell_type": "markdown",
   "metadata": {},
   "source": [
    "Input: 1->2->4, 1->3->4 \n",
    "Output: 1->1->2->3->4->4"
   ]
  },
  {
   "cell_type": "code",
   "execution_count": 40,
   "metadata": {
    "collapsed": false
   },
   "outputs": [
    {
     "data": {
      "text/plain": [
       "<__main__.ListNode at 0x1f32d52f208>"
      ]
     },
     "execution_count": 40,
     "metadata": {},
     "output_type": "execute_result"
    }
   ],
   "source": [
    "        \n",
    "        \n",
    "nodel=ListNode(1)\n",
    "\n",
    "nodem=ListNode(2)\n",
    "noden=ListNode(4)\n",
    "\n",
    "\n",
    "#list2\n",
    "nodex=ListNode(1)\n",
    "nodey=ListNode(3)\n",
    "nodez=ListNode(4)\n",
    "\n",
    "\n",
    "nodex.next=nodey\n",
    "nodey.next=nodez\n",
    "\n",
    "\n",
    "\n",
    "\n",
    "nodel.next=nodem\n",
    "nodem.next=noden\n",
    "\n",
    "\n",
    "k=Solution()\n",
    "\n",
    "k.mergeTwoLists(nodel,nodex)\n",
    "           \n",
    "            "
   ]
  },
  {
   "cell_type": "code",
   "execution_count": 45,
   "metadata": {
    "collapsed": false
   },
   "outputs": [
    {
     "data": {
      "text/plain": [
       "4"
      ]
     },
     "execution_count": 45,
     "metadata": {},
     "output_type": "execute_result"
    }
   ],
   "source": [
    "nodez.next.val"
   ]
  },
  {
   "cell_type": "code",
   "execution_count": 46,
   "metadata": {
    "collapsed": false
   },
   "outputs": [
    {
     "name": "stdout",
     "output_type": "stream",
     "text": [
      "hello world\n"
     ]
    }
   ],
   "source": [
    "print('hello world')"
   ]
  },
  {
   "cell_type": "code",
   "execution_count": 114,
   "metadata": {
    "collapsed": false
   },
   "outputs": [
    {
     "name": "stdout",
     "output_type": "stream",
     "text": [
      "['h', 'e', 'l', 'l', 'o']\n",
      "olleh\n"
     ]
    }
   ],
   "source": [
    "a=\"hello\"\n",
    "b=[]\n",
    "for i in a:\n",
    "    \n",
    "    b.append(i)\n",
    "    \n",
    "print(b)\n",
    "\n",
    "\n",
    "c=[]\n",
    "try:\n",
    "    while b[-1]:\n",
    "\n",
    "\n",
    "        c.append(b[-1])\n",
    "\n",
    "        b.pop(-1)\n",
    "except IndexError:       \n",
    "    pass\n",
    "    \n",
    "    \n",
    "f = ''.join(c)\n",
    "print(f)"
   ]
  },
  {
   "cell_type": "code",
   "execution_count": 107,
   "metadata": {
    "collapsed": false
   },
   "outputs": [],
   "source": [
    "str?\n"
   ]
  },
  {
   "cell_type": "code",
   "execution_count": 62,
   "metadata": {
    "collapsed": true
   },
   "outputs": [],
   "source": [
    "str.partition?"
   ]
  },
  {
   "cell_type": "code",
   "execution_count": null,
   "metadata": {
    "collapsed": true
   },
   "outputs": [],
   "source": []
  }
 ],
 "metadata": {
  "kernelspec": {
   "display_name": "Python 3",
   "language": "python",
   "name": "python3"
  },
  "language_info": {
   "codemirror_mode": {
    "name": "ipython",
    "version": 3
   },
   "file_extension": ".py",
   "mimetype": "text/x-python",
   "name": "python",
   "nbconvert_exporter": "python",
   "pygments_lexer": "ipython3",
   "version": "3.6.0"
  }
 },
 "nbformat": 4,
 "nbformat_minor": 2
}
